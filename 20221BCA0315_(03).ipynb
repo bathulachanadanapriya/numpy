{
  "nbformat": 4,
  "nbformat_minor": 0,
  "metadata": {
    "colab": {
      "provenance": []
    },
    "kernelspec": {
      "name": "python3",
      "display_name": "Python 3"
    },
    "language_info": {
      "name": "python"
    }
  },
  "cells": [
    {
      "cell_type": "markdown",
      "source": [
        "## ***The IterTools module***\n",
        "The itertools module contains a number of commonly used iterators as well as functions for combining several iterators.\n",
        "\n",
        "The module’s functions fall into a few broad classes:\n",
        "•\tFunctions that create a new iterator based on an existing iterator.\n",
        "\n",
        "•\tFunctions for treating an iterator’s elements as function arguments.\n",
        "\n",
        "•\tFunctions for selecting portions of an iterator’s output.\n",
        "\n",
        "•\tA function for grouping an iterator’s output"
      ],
      "metadata": {
        "id": "SwSt3Ps560qI"
      }
    },
    {
      "cell_type": "markdown",
      "source": [
        "# ***Creating New Iterators***"
      ],
      "metadata": {
        "id": "RVgVV1H76Bzq"
      }
    },
    {
      "cell_type": "markdown",
      "source": [
        "***1.count*** : itertools.count(start, step) returns an infinite stream of evenly spaced values. You can optionally supply the starting number, which defaults to 0, and the interval between numbers, which defaults to 1"
      ],
      "metadata": {
        "id": "9UBr_xWm7jYM"
      }
    },
    {
      "cell_type": "code",
      "source": [
        "from itertools import count\n",
        "\n",
        "for number in count(start=1, step=2):\n",
        "\tif number > 50:\n",
        "\t\tbreak\n",
        "\tprint(number) # print statement\n"
      ],
      "metadata": {
        "colab": {
          "base_uri": "https://localhost:8080/"
        },
        "id": "C9fI0kC97nAH",
        "outputId": "39ca3202-7615-4254-a2d5-3a3d18c6c505"
      },
      "execution_count": 1,
      "outputs": [
        {
          "output_type": "stream",
          "name": "stdout",
          "text": [
            "1\n",
            "3\n",
            "5\n",
            "7\n",
            "9\n",
            "11\n",
            "13\n",
            "15\n",
            "17\n",
            "19\n",
            "21\n",
            "23\n",
            "25\n",
            "27\n",
            "29\n",
            "31\n",
            "33\n",
            "35\n",
            "37\n",
            "39\n",
            "41\n",
            "43\n",
            "45\n",
            "47\n",
            "49\n"
          ]
        }
      ]
    },
    {
      "cell_type": "markdown",
      "source": [
        "Different types of iterators provided by this module are:\n",
        "\n",
        "# Infinite iterators\n",
        "\n",
        "# Combinatoric iterators\n",
        "\n",
        "# Terminating iterators"
      ],
      "metadata": {
        "id": "UbDVt6Nu91Ov"
      }
    },
    {
      "cell_type": "markdown",
      "source": [
        "## ***Infinite Iterators***\n",
        "Iterator in Python is any Python type that can be used with a ‘for in loop’. Python lists, tuples, dictionaries, and sets are all examples of inbuilt iterators.\n",
        "But it is not necessary that an iterator object has to exhaust, sometimes it can be infinite. Such types of iterators are known as Infinite iterators"
      ],
      "metadata": {
        "id": "Izj-cmwS-i9a"
      }
    },
    {
      "cell_type": "markdown",
      "source": [
        "Python provides three types of infinite iterators:\n",
        "\n",
        "1***. count(start, step):*** This iterator starts printing from the “start” number and prints infinitely. If steps are mentioned, the numbers are skipped else step is 1 by default. See the below example for its use with for in loop."
      ],
      "metadata": {
        "id": "ebPxelB7-tDZ"
      }
    },
    {
      "cell_type": "code",
      "source": [
        "# Python program to demonstrate\n",
        "# infinite iterators\n",
        "\n",
        "import itertools\n",
        "\n",
        "# for in loop\n",
        "for i in itertools.count(5, 5):\n",
        "\tif i == 100:\n",
        "\t\tbreak\n",
        "\telse:\n",
        "\t\tprint(i, end=\" \")\n"
      ],
      "metadata": {
        "colab": {
          "base_uri": "https://localhost:8080/"
        },
        "id": "A25V5XOh_aZ8",
        "outputId": "34555a13-7f83-4f5f-a459-e2493df75344"
      },
      "execution_count": 2,
      "outputs": [
        {
          "output_type": "stream",
          "name": "stdout",
          "text": [
            "5 10 15 20 25 30 35 40 45 50 55 60 65 70 75 80 85 90 95 "
          ]
        }
      ]
    },
    {
      "cell_type": "markdown",
      "source": [
        "# ***2. cycle(iterable):*** This iterator prints all values in order from the passed container. It restarts printing from the beginning again when all elements are printed in a cyclic manner."
      ],
      "metadata": {
        "id": "Mu41PZnE_1hl"
      }
    },
    {
      "cell_type": "code",
      "source": [
        "# Python program to demonstrate\n",
        "# infinite iterators\n",
        "\n",
        "import itertools\n",
        "\n",
        "count = 0\n",
        "\n",
        "# for in loop\n",
        "for i in itertools.cycle('alex'):\n",
        "\tif count > 7:\n",
        "\t\tbreak\n",
        "\telse:\n",
        "\t\tprint(i, end=\" \")\n",
        "\t\tcount += 1\n"
      ],
      "metadata": {
        "colab": {
          "base_uri": "https://localhost:8080/"
        },
        "id": "aywZ7-a2_66j",
        "outputId": "0eb40850-838f-4bcd-fc9c-f5817e6310f3"
      },
      "execution_count": 3,
      "outputs": [
        {
          "output_type": "stream",
          "name": "stdout",
          "text": [
            "a l e x a l e x "
          ]
        }
      ]
    },
    {
      "cell_type": "code",
      "source": [
        "#Using the next function\n",
        "# Python program to demonstrate\n",
        "# infinite iterators\n",
        "\n",
        "import itertools\n",
        "\n",
        "l = ['bca', 'bba', 'bsd']\n",
        "\n",
        "# defining iterator\n",
        "iterators = itertools.cycle(l)\n",
        "\n",
        "# for in loop\n",
        "for i in range(6):\n",
        "\n",
        "\t# Using next function\n",
        "\tprint(next(iterators), end=\" \")\n"
      ],
      "metadata": {
        "colab": {
          "base_uri": "https://localhost:8080/"
        },
        "id": "nPsUu6Tr-B5E",
        "outputId": "070d6cbc-50cf-49ea-dfbd-fdc7bb350675"
      },
      "execution_count": 4,
      "outputs": [
        {
          "output_type": "stream",
          "name": "stdout",
          "text": [
            "bca bba bsd bca bba bsd "
          ]
        }
      ]
    },
    {
      "cell_type": "code",
      "source": [
        "#repeat(val, num):\n",
        "# Python code to demonstrate the working of\n",
        "# repeat()\n",
        "\n",
        "# importing \"itertools\" for iterator operations\n",
        "import itertools\n",
        "\n",
        "# using repeat() to repeatedly print number\n",
        "print(\"Printing the numbers repeatedly : \")\n",
        "print(list(itertools.repeat(25, 4)))\n"
      ],
      "metadata": {
        "colab": {
          "base_uri": "https://localhost:8080/"
        },
        "id": "RMRn2PiHAnMH",
        "outputId": "759d2884-1aaf-457f-a291-0ee358d85326"
      },
      "execution_count": 5,
      "outputs": [
        {
          "output_type": "stream",
          "name": "stdout",
          "text": [
            "Printing the numbers repeatedly : \n",
            "[25, 25, 25, 25]\n"
          ]
        }
      ]
    },
    {
      "cell_type": "markdown",
      "source": [
        "# ***2. Combinatoric iterators***\n",
        "\n",
        "The recursive generators that are used to simplify combinatorial constructs such as permutations, combinations, and Cartesian products are called combinatoric iterators.\n",
        "\n",
        "Product():\n",
        "\n",
        "Permutations()\n",
        "\n",
        "Combinations():\n",
        "\n",
        "Combinations_with_replacement():"
      ],
      "metadata": {
        "id": "iGqFnSqdAZ8O"
      }
    },
    {
      "cell_type": "markdown",
      "source": [
        "# ***Product(): ***\n",
        "\n",
        "This tool computes the cartesian product of input iterables. To compute the product of an iterable with itself, we use the optional repeat keyword argument to specify the number of repetitions. The output of this function is tuples in sorted order."
      ],
      "metadata": {
        "id": "s4dR6s9dJmXh"
      }
    },
    {
      "cell_type": "code",
      "source": [
        "# import the product function from itertools module\n",
        "from itertools import product\n",
        "\n",
        "print(\"The cartesian product using repeat:\")\n",
        "print(list(product([1, 2], repeat=2)))\n",
        "print()\n",
        "\n",
        "print(\"The cartesian product of the containers:\")\n",
        "print(list(product(['bca', 'bba', 'bds'], '2')))\n",
        "print()\n",
        "\n",
        "print(\"The cartesian product of the containers:\")\n",
        "print(list(product('karan', [3, 4])))\n"
      ],
      "metadata": {
        "colab": {
          "base_uri": "https://localhost:8080/"
        },
        "id": "2nGgcZ-x9S5D",
        "outputId": "32f63691-0e95-4312-a765-d387e86bd4a8"
      },
      "execution_count": 6,
      "outputs": [
        {
          "output_type": "stream",
          "name": "stdout",
          "text": [
            "The cartesian product using repeat:\n",
            "[(1, 1), (1, 2), (2, 1), (2, 2)]\n",
            "\n",
            "The cartesian product of the containers:\n",
            "[('bca', '2'), ('bba', '2'), ('bds', '2')]\n",
            "\n",
            "The cartesian product of the containers:\n",
            "[('k', 3), ('k', 4), ('a', 3), ('a', 4), ('r', 3), ('r', 4), ('a', 3), ('a', 4), ('n', 3), ('n', 4)]\n"
          ]
        }
      ]
    },
    {
      "cell_type": "markdown",
      "source": [
        "# ***Permutations():***\n",
        " Permutations() as the name speaks for itself is used to generate all possible permutations of an iterable. All elements are treated as unique based on their position and not their values. This function takes an iterable and group_size, if the value of group_size is not specified or is equal to None then the value of group_size becomes the length of the iterable."
      ],
      "metadata": {
        "id": "YnZ9QwqCKBWp"
      }
    },
    {
      "cell_type": "code",
      "source": [
        "# import the product function from itertools module\n",
        "from itertools import permutations\n",
        "\n",
        "print(\"All the permutations of the given list is:\")\n",
        "print(list(permutations([1, 'david'], 2)))\n",
        "print()\n",
        "\n",
        "print(\"All the permutations of the given string is:\")\n",
        "print(list(permutations('fgh')))\n",
        "print()\n",
        "\n",
        "print(\"All the permutations of the given container is:\")\n",
        "print(list(permutations(range(4), 3)))\n"
      ],
      "metadata": {
        "colab": {
          "base_uri": "https://localhost:8080/"
        },
        "id": "0ta1eX-uKLqy",
        "outputId": "7b89d00a-0607-4f26-bffe-fd0a1c56445e"
      },
      "execution_count": 7,
      "outputs": [
        {
          "output_type": "stream",
          "name": "stdout",
          "text": [
            "All the permutations of the given list is:\n",
            "[(1, 'david'), ('david', 1)]\n",
            "\n",
            "All the permutations of the given string is:\n",
            "[('f', 'g', 'h'), ('f', 'h', 'g'), ('g', 'f', 'h'), ('g', 'h', 'f'), ('h', 'f', 'g'), ('h', 'g', 'f')]\n",
            "\n",
            "All the permutations of the given container is:\n",
            "[(0, 1, 2), (0, 1, 3), (0, 2, 1), (0, 2, 3), (0, 3, 1), (0, 3, 2), (1, 0, 2), (1, 0, 3), (1, 2, 0), (1, 2, 3), (1, 3, 0), (1, 3, 2), (2, 0, 1), (2, 0, 3), (2, 1, 0), (2, 1, 3), (2, 3, 0), (2, 3, 1), (3, 0, 1), (3, 0, 2), (3, 1, 0), (3, 1, 2), (3, 2, 0), (3, 2, 1)]\n"
          ]
        }
      ]
    },
    {
      "cell_type": "markdown",
      "source": [
        "# ***Combinations(): ***\n",
        "This iterator prints all the possible combinations(without replacement) of the container passed in arguments in the specified group size in sorted order."
      ],
      "metadata": {
        "id": "d4BWUluEKQ1j"
      }
    },
    {
      "cell_type": "code",
      "source": [
        "# import combinations from itertools module\n",
        "\n",
        "from itertools import combinations\n",
        "\n",
        "print (\"All the combination of list in sorted order(without replacement) is:\")\n",
        "print(list(combinations(['A', 2], 2)))\n",
        "print()\n",
        "\n",
        "print (\"All the combination of string in sorted order(without replacement) is:\")\n",
        "print(list(combinations('AB', 2)))\n",
        "print()\n",
        "\n",
        "print (\"All the combination of list in sorted order(without replacement) is:\")\n",
        "print(list(combinations(range(2), 1)))\n"
      ],
      "metadata": {
        "colab": {
          "base_uri": "https://localhost:8080/"
        },
        "id": "gu4J75DCKkj3",
        "outputId": "d04dfc86-6e9c-4cf4-e55f-afaab2f11639"
      },
      "execution_count": 8,
      "outputs": [
        {
          "output_type": "stream",
          "name": "stdout",
          "text": [
            "All the combination of list in sorted order(without replacement) is:\n",
            "[('A', 2)]\n",
            "\n",
            "All the combination of string in sorted order(without replacement) is:\n",
            "[('A', 'B')]\n",
            "\n",
            "All the combination of list in sorted order(without replacement) is:\n",
            "[(0,), (1,)]\n"
          ]
        }
      ]
    },
    {
      "cell_type": "code",
      "source": [],
      "metadata": {
        "id": "NLi3zEhbN8Qu"
      },
      "execution_count": null,
      "outputs": []
    },
    {
      "cell_type": "markdown",
      "source": [
        "# ***Combinations_with_replacement(): ***\n",
        "This function returns a subsequence of length n from the elements of the iterable where n is the argument that the function takes determining the length of the subsequences generated by the function. Individual elements may repeat itself in combinations_with_replacement function"
      ],
      "metadata": {
        "id": "G3AqONVnKv7R"
      }
    },
    {
      "cell_type": "code",
      "source": [
        "# import combinations from itertools module\n",
        "\n",
        "from itertools import combinations_with_replacement\n",
        "\n",
        "print(\"All the combination of string in sorted order(with replacement) is:\")\n",
        "print(list(combinations_with_replacement(\"xyz\", 2)))\n",
        "print()\n",
        "\n",
        "print(\"All the combination of list in sorted order(with replacement) is:\")\n",
        "print(list(combinations_with_replacement([4,5], 3)))\n",
        "print()\n",
        "\n",
        "print(\"All the combination of container in sorted order(with replacement) is:\")\n",
        "print(list(combinations_with_replacement(range(3), 2)))\n"
      ],
      "metadata": {
        "colab": {
          "base_uri": "https://localhost:8080/"
        },
        "id": "Xw_TrManK2Hr",
        "outputId": "108a0373-9a25-4cf2-d73e-efd47d9674a1"
      },
      "execution_count": 9,
      "outputs": [
        {
          "output_type": "stream",
          "name": "stdout",
          "text": [
            "All the combination of string in sorted order(with replacement) is:\n",
            "[('x', 'x'), ('x', 'y'), ('x', 'z'), ('y', 'y'), ('y', 'z'), ('z', 'z')]\n",
            "\n",
            "All the combination of list in sorted order(with replacement) is:\n",
            "[(4, 4, 4), (4, 4, 5), (4, 5, 5), (5, 5, 5)]\n",
            "\n",
            "All the combination of container in sorted order(with replacement) is:\n",
            "[(0, 0), (0, 1), (0, 2), (1, 1), (1, 2), (2, 2)]\n"
          ]
        }
      ]
    },
    {
      "cell_type": "markdown",
      "source": [
        "# **Terminating iterators**\n",
        "Terminating iterators are used to work on the short input sequences and produce the output based on the functionality of the method used.\n",
        "\n",
        "Different types of terminating iterators are:\n",
        "\n",
        "1.***accumulate(iter, func)***: This iterator takes two arguments, iterable target and the function which would be followed at each iteration of value in target. If no function is passed, addition takes place by default. If the input iterable is empty, the output iterable will also be empty"
      ],
      "metadata": {
        "id": "TrH-Y1ifLMOq"
      }
    },
    {
      "cell_type": "code",
      "source": [
        "# Python code to demonstrate the working of\n",
        "# accumulate()\n",
        "\n",
        "\n",
        "import itertools\n",
        "import operator\n",
        "\n",
        "# initializing list 1\n",
        "li1 = [3,4,5,6]\n",
        "\n",
        "# using accumulate()\n",
        "# prints the successive summation of elements\n",
        "print(\"The sum after each iteration is : \", end=\"\")\n",
        "print(list(itertools.accumulate(li1)))\n",
        "\n",
        "# using accumulate()\n",
        "# prints the successive multiplication of elements\n",
        "print(\"The product after each iteration is : \", end=\"\")\n",
        "print(list(itertools.accumulate(li1, operator.mul)))\n",
        "\n",
        "# using accumulate()\n",
        "# prints the successive summation of elements\n",
        "print(\"The sum after each iteration is : \", end=\"\")\n",
        "print(list(itertools.accumulate(li1)))\n",
        "\n",
        "# using accumulate()\n",
        "# prints the successive multiplication of elements\n",
        "print(\"The product after each iteration is : \", end=\"\")\n",
        "print(list(itertools.accumulate(li1, operator.mul)))\n"
      ],
      "metadata": {
        "colab": {
          "base_uri": "https://localhost:8080/"
        },
        "id": "K0WnqwnkSah9",
        "outputId": "16234719-7e94-4adf-f056-80cd55438bb8"
      },
      "execution_count": 10,
      "outputs": [
        {
          "output_type": "stream",
          "name": "stdout",
          "text": [
            "The sum after each iteration is : [3, 7, 12, 18]\n",
            "The product after each iteration is : [3, 12, 60, 360]\n",
            "The sum after each iteration is : [3, 7, 12, 18]\n",
            "The product after each iteration is : [3, 12, 60, 360]\n"
          ]
        }
      ]
    },
    {
      "cell_type": "markdown",
      "source": [
        "## 2.**chain(iter1, iter2..):** This function is used to print all the values in iterable targets one after another mentioned in its arguments. *italicized text*"
      ],
      "metadata": {
        "id": "LGbCR19HSpMk"
      }
    },
    {
      "cell_type": "code",
      "source": [
        "# Python code to demonstrate the working of\n",
        "# and chain()\n",
        "\n",
        "\n",
        "import itertools\n",
        "\n",
        "# initializing list 1\n",
        "li1 = [1,2,3]\n",
        "\n",
        "# initializing list 2\n",
        "li2 = [4,5,6]\n",
        "\n",
        "# initializing list 3\n",
        "li3 = [7,8,9]\n",
        "\n",
        "# using chain() to print all elements of lists\n",
        "print(\"All values in mentioned chain are : \", end=\"\")\n",
        "print(list(itertools.chain(li1, li2, li3)))\n"
      ],
      "metadata": {
        "colab": {
          "base_uri": "https://localhost:8080/"
        },
        "id": "39B3b2eOStQ6",
        "outputId": "79c618e6-597b-4af2-cde1-ea2c3fe4c27a"
      },
      "execution_count": 11,
      "outputs": [
        {
          "output_type": "stream",
          "name": "stdout",
          "text": [
            "All values in mentioned chain are : [1, 2, 3, 4, 5, 6, 7, 8, 9]\n"
          ]
        }
      ]
    },
    {
      "cell_type": "markdown",
      "source": [
        "# 3.***chain.from_iterable():*** This function is implemented similarly as a chain() but the argument here is a list of lists or any other iterable container."
      ],
      "metadata": {
        "id": "p1AD7ny7S4FN"
      }
    },
    {
      "cell_type": "code",
      "source": [
        "# Python code to demonstrate the working of\n",
        "# chain.from_iterable()\n",
        "\n",
        "\n",
        "import itertools\n",
        "\n",
        "\n",
        "# initializing list 1\n",
        "li1 = [1,2,3]\n",
        "\n",
        "# initializing list 2\n",
        "li2 = [4,5,6]\n",
        "\n",
        "# initializing list 3\n",
        "li3 = [7,8,9]\n",
        "\n",
        "# initializing list of list\n",
        "li4 = [li1, li2, li3]\n",
        "\n",
        "# using chain.from_iterable() to print all elements of lists\n",
        "print (\"All values in mentioned chain are : \", end =\"\")\n",
        "print (list(itertools.chain.from_iterable(li4)))\n"
      ],
      "metadata": {
        "colab": {
          "base_uri": "https://localhost:8080/"
        },
        "id": "hYyQbTeOS-Gz",
        "outputId": "a519470d-6ffb-4db0-e3c8-22fa35225d84"
      },
      "execution_count": 12,
      "outputs": [
        {
          "output_type": "stream",
          "name": "stdout",
          "text": [
            "All values in mentioned chain are : [1, 2, 3, 4, 5, 6, 7, 8, 9]\n"
          ]
        }
      ]
    },
    {
      "cell_type": "markdown",
      "source": [
        "# 4. ***compress(iter, selector):*** This iterator selectively picks the values to print from the passed container according to the boolean list value passed as other arguments. The arguments corresponding to boolean true are printed else all are skipped."
      ],
      "metadata": {
        "id": "Xrxu4J0ETIJV"
      }
    },
    {
      "cell_type": "code",
      "source": [
        "# Python code to demonstrate the working of\n",
        "# and compress()\n",
        "\n",
        "\n",
        "import itertools\n",
        "\n",
        "\n",
        "# using compress() selectively print data values\n",
        "print(\"The compressed values in string are : \", end=\"\")\n",
        "print(list(itertools.compress('GEEKSFORGEEKS', [\n",
        "\t1, 0, 0, 0, 0, 1, 0, 0, 1, 0, 0, 0, 0])))\n"
      ],
      "metadata": {
        "colab": {
          "base_uri": "https://localhost:8080/"
        },
        "id": "GxWCXO5zTLyo",
        "outputId": "c98976ea-ccd7-4617-f589-1917f34185ed"
      },
      "execution_count": 13,
      "outputs": [
        {
          "output_type": "stream",
          "name": "stdout",
          "text": [
            "The compressed values in string are : ['G', 'F', 'G']\n"
          ]
        }
      ]
    },
    {
      "cell_type": "markdown",
      "source": [
        "5.***dropwhile(func, seq):*** This iterator starts printing the characters only after the func. in argument returns false for the first time."
      ],
      "metadata": {
        "id": "Upp6_F8bTYHs"
      }
    },
    {
      "cell_type": "code",
      "source": [
        "# Python code to demonstrate the working of\n",
        "# dropwhile()\n",
        "\n",
        "\n",
        "import itertools\n",
        "\n",
        "\n",
        "# initializing list\n",
        "li = [1,2,3,4,5,6]\n",
        "\n",
        "# using dropwhile() to start displaying after condition is false\n",
        "print (\"The values after condition returns false : \", end =\"\")\n",
        "print (list(itertools.dropwhile(lambda x : x % 2 == 0, li)))\n"
      ],
      "metadata": {
        "colab": {
          "base_uri": "https://localhost:8080/"
        },
        "id": "qvlGnVeIToHI",
        "outputId": "71734b8d-20a9-4cb3-e75d-6e06fb2347b0"
      },
      "execution_count": 14,
      "outputs": [
        {
          "output_type": "stream",
          "name": "stdout",
          "text": [
            "The values after condition returns false : [1, 2, 3, 4, 5, 6]\n"
          ]
        }
      ]
    },
    {
      "cell_type": "markdown",
      "source": [
        "6. # ***dropwhile(func, seq):*** This iterator starts printing the characters only after the func. in argument returns false for the first time."
      ],
      "metadata": {
        "id": "ywPiCFfITtlE"
      }
    },
    {
      "cell_type": "code",
      "source": [
        "# Python code to demonstrate the working of\n",
        "# dropwhile()\n",
        "\n",
        "\n",
        "import itertools\n",
        "\n",
        "\n",
        "# initializing list\n",
        "li = [6,7,8]\n",
        "\n",
        "# using dropwhile() to start displaying after condition is false\n",
        "print (\"The values after condition returns false : \", end =\"\")\n",
        "print (list(itertools.dropwhile(lambda x : x % 2 == 0, li)))\n"
      ],
      "metadata": {
        "colab": {
          "base_uri": "https://localhost:8080/"
        },
        "id": "CyyijrN1TyS4",
        "outputId": "ded49555-9572-4349-cedd-52c4cbaf9beb"
      },
      "execution_count": 15,
      "outputs": [
        {
          "output_type": "stream",
          "name": "stdout",
          "text": [
            "The values after condition returns false : [7, 8]\n"
          ]
        }
      ]
    },
    {
      "cell_type": "markdown",
      "source": [
        "##7.  ***filterfalse(func, seq):*** As the name suggests, this iterator prints only values that return false for the passed function"
      ],
      "metadata": {
        "id": "lJU7ykYtUAcE"
      }
    },
    {
      "cell_type": "code",
      "source": [
        "# Python code to demonstrate the working of\n",
        "# filterfalse()\n",
        "\n",
        "\n",
        "import itertools\n",
        "\n",
        "# initializing list\n",
        "li = [2,4,6,8,0]\n",
        "\n",
        "# using filterfalse() to print false values\n",
        "print (\"The values that return false to function are : \", end =\"\")\n",
        "print (list(itertools.filterfalse(lambda x : x % 2 == 0, li)))\n"
      ],
      "metadata": {
        "colab": {
          "base_uri": "https://localhost:8080/"
        },
        "id": "D4DAPO8MTeGt",
        "outputId": "ea354f24-94ec-4c7e-bf5b-db50edc7caa9"
      },
      "execution_count": 16,
      "outputs": [
        {
          "output_type": "stream",
          "name": "stdout",
          "text": [
            "The values that return false to function are : []\n"
          ]
        }
      ]
    },
    {
      "cell_type": "markdown",
      "source": [
        "# 8.***islice(iterable, start, stop, step):***\n",
        "This iterator selectively prints the values mentioned in its iterable container passed as argument. This iterator takes 4 arguments, iterable container, starting pos., ending position and step"
      ],
      "metadata": {
        "id": "Tmv-KWBvUO5n"
      }
    },
    {
      "cell_type": "code",
      "source": [
        "# Python code to demonstrate the working of\n",
        "# islice()\n",
        "\n",
        "\n",
        "import itertools\n",
        "\n",
        "# initializing list\n",
        "li = [2, 4, 5, 7, 8, 10, 20]\n",
        "\n",
        "# using islice() to slice the list acc. to need\n",
        "# starts printing from 2nd index till 6th skipping 2\n",
        "print (\"The sliced list values are : \", end =\"\")\n",
        "print (list(itertools.islice(li, 1, 6, 2)))\n"
      ],
      "metadata": {
        "colab": {
          "base_uri": "https://localhost:8080/"
        },
        "id": "35TeqU8OUS_d",
        "outputId": "c79884b4-4360-4306-c0aa-4dbcf8d142e4"
      },
      "execution_count": 17,
      "outputs": [
        {
          "output_type": "stream",
          "name": "stdout",
          "text": [
            "The sliced list values are : [4, 7, 10]\n"
          ]
        }
      ]
    },
    {
      "cell_type": "markdown",
      "source": [
        "# 9.***starmap(func., tuple list):***\n",
        "This iterator takes a function and tuple list as argument and returns the value according to the function from each tuple of the list."
      ],
      "metadata": {
        "id": "3iXZ8mxkVelx"
      }
    },
    {
      "cell_type": "code",
      "source": [
        "# Python code to demonstrate the working of\n",
        "# starmap()\n",
        "\n",
        "\n",
        "import itertools\n",
        "\n",
        "\n",
        "# initializing tuple list\n",
        "li = [ (1,2,3), (2,3,4), (5,6,7), (6,8,9) ]\n",
        "\n",
        "# using starmap() for selection value acc. to function\n",
        "# selects min of all tuple values\n",
        "print (\"The values acc. to function are : \", end =\"\")\n",
        "print (list(itertools.starmap(min, li)))\n"
      ],
      "metadata": {
        "colab": {
          "base_uri": "https://localhost:8080/"
        },
        "id": "QRsaZp8DVuvb",
        "outputId": "2caa5a6f-11ae-4ee4-9494-25adae8d09f8"
      },
      "execution_count": 18,
      "outputs": [
        {
          "output_type": "stream",
          "name": "stdout",
          "text": [
            "The values acc. to function are : [1, 2, 5, 6]\n"
          ]
        }
      ]
    },
    {
      "cell_type": "markdown",
      "source": [
        "# 10. ***takewhile(func, iterable):*** This iterator is the opposite of dropwhile(), it prints the values till the function returns false for 1st time.\n",
        "Example"
      ],
      "metadata": {
        "id": "uAaq-76hWNTI"
      }
    },
    {
      "cell_type": "code",
      "source": [
        "# Python code to demonstrate the working of\n",
        "# takewhile()\n",
        "\n",
        "\n",
        "import itertools\n",
        "\n",
        "# initializing list\n",
        "li = [10,20,30,40,50]\n",
        "\n",
        "# using takewhile() to print values till condition is false.\n",
        "print (\"The list values till 1st false value are : \", end =\"\")\n",
        "print (list(itertools.takewhile(lambda x : x % 2 == 0, li )))\n"
      ],
      "metadata": {
        "colab": {
          "base_uri": "https://localhost:8080/"
        },
        "id": "InB7YxcRWVcq",
        "outputId": "7766af7a-0f08-4a93-8b29-73bf57debd90"
      },
      "execution_count": 19,
      "outputs": [
        {
          "output_type": "stream",
          "name": "stdout",
          "text": [
            "The list values till 1st false value are : [10, 20, 30, 40, 50]\n"
          ]
        }
      ]
    },
    {
      "cell_type": "markdown",
      "source": [
        "##11 ***tee(iterator, count):- ***This iterator splits the container into a number of iterators mentioned in the argument."
      ],
      "metadata": {
        "id": "Akx4db0kWtV6"
      }
    },
    {
      "cell_type": "code",
      "source": [
        "# Python code to demonstrate the working of\n",
        "# tee()\n",
        "\n",
        "\n",
        "import itertools\n",
        "\n",
        "# initializing list\n",
        "li = [3,4,5,6,7,8]\n",
        "\n",
        "# storing list in iterator\n",
        "iti = iter(li)\n",
        "\n",
        "# using tee() to make a list of iterators\n",
        "# makes list of 3 iterators having same values.\n",
        "it = itertools.tee(iti, 3)\n",
        "\n",
        "# printing the values of iterators\n",
        "print(\"The iterators are : \")\n",
        "for i in range(0, 3):\n",
        "\tprint(list(it[i]))\n"
      ],
      "metadata": {
        "colab": {
          "base_uri": "https://localhost:8080/"
        },
        "id": "pOXnIw-aW0vX",
        "outputId": "ff1968b2-6cd0-4336-e20e-63519e94f1c5"
      },
      "execution_count": 20,
      "outputs": [
        {
          "output_type": "stream",
          "name": "stdout",
          "text": [
            "The iterators are : \n",
            "[3, 4, 5, 6, 7, 8]\n",
            "[3, 4, 5, 6, 7, 8]\n",
            "[3, 4, 5, 6, 7, 8]\n"
          ]
        }
      ]
    },
    {
      "cell_type": "markdown",
      "source": [
        "#12 ***zip_longest( iterable1, iterable2, fillval):***\n",
        " This iterator prints the values of iterables alternatively in sequence. If one of the iterables is printed fully, the remaining values are filled by the values assigned to fillvalue"
      ],
      "metadata": {
        "id": "0lmDcV0FXEkV"
      }
    },
    {
      "cell_type": "code",
      "source": [
        "# Python code to demonstrate the working of\n",
        "# zip_longest()\n",
        "\n",
        "\n",
        "import itertools\n",
        "\n",
        "# using zip_longest() to combine two iterables.\n",
        "print(\"The combined values of iterables is : \")\n",
        "print(*(itertools.zip_longest('pyt', 'hon', fillvalue='_')))\n"
      ],
      "metadata": {
        "colab": {
          "base_uri": "https://localhost:8080/"
        },
        "id": "ngf4KJkZXcer",
        "outputId": "9477c429-c0aa-48a3-82a2-7c8302863a06"
      },
      "execution_count": 21,
      "outputs": [
        {
          "output_type": "stream",
          "name": "stdout",
          "text": [
            "The combined values of iterables is : \n",
            "('p', 'h') ('y', 'o') ('t', 'n')\n"
          ]
        }
      ]
    },
    {
      "cell_type": "code",
      "source": [],
      "metadata": {
        "id": "MQykYYjyWoHf"
      },
      "execution_count": null,
      "outputs": []
    }
  ]
}