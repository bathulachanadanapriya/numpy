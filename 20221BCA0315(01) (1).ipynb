{
  "nbformat": 4,
  "nbformat_minor": 0,
  "metadata": {
    "colab": {
      "provenance": []
    },
    "kernelspec": {
      "name": "python3",
      "display_name": "Python 3"
    },
    "language_info": {
      "name": "python"
    }
  },
  "cells": [
    {
      "cell_type": "markdown",
      "source": [
        "*Functional Programming*\n",
        "\n",
        "Functional programming decomposes a problem into a set of functions.\n",
        "Ideally, functions only take inputs and produce outputs, and don’t have any internal state that affects the output produced for a given input.\n",
        "\n",
        "Well-known functional languages include the ML family (Standard ML, OCaml, and other variants) and Haskell"
      ],
      "metadata": {
        "id": "uv9tv15CX9if"
      }
    },
    {
      "cell_type": "markdown",
      "source": [
        "Functional programming offers various features such as ***iterators and generators*** and relevant library modules such as ***itertools and functools***."
      ],
      "metadata": {
        "id": "oFiPGaqUYY2a"
      }
    },
    {
      "cell_type": "markdown",
      "source": [
        "Functional programming can be considered the opposite of ***object-oriented programming***.\n",
        "\n",
        "Objects are little capsules containing some internal state along with a collection of method calls that let you modify this state, and programs consist of making the right set of state changes.\n",
        "\n",
        "Functional programming wants to avoid state changes as much as possible and works with data flowing between functions.\n",
        "\n",
        "In Python you might combine the two approaches by writing functions that take and return instances representing objects in your application (e-mail messages, transactions, etc.)"
      ],
      "metadata": {
        "id": "xNCOfAzwY3Ht"
      }
    },
    {
      "cell_type": "markdown",
      "source": [
        "There are theoretical and practical advantages to the functional style:\n",
        "\n",
        "•\tFormal provability.\n",
        "\n",
        "•\tModularity.\n",
        "\n",
        "•\tComposability.\n",
        "\n",
        "•\tEase of debugging and testing\n"
      ],
      "metadata": {
        "id": "cPGwS8wLZNEF"
      }
    },
    {
      "cell_type": "markdown",
      "source": [
        "## ***Iterators***\n",
        "A Python language feature that’s an important foundation for writing functional-style programs: iterators.\n",
        "\n",
        "An iterator is an object representing a stream of data; this object returns the data one element at a time.\n",
        "\n",
        "A Python iterator must support a method called __next__() that takes no arguments and always returns the next element of the stream.\n",
        "\n",
        "If there are no more elements in the stream, __next__() must raise the StopIteration exception.\n",
        "\n",
        "Iterators don’t have to be finite, though; it’s perfectly reasonable to write an iterator that produces an infinite stream of data.\n",
        "\n",
        "The built-in iter() function takes an arbitrary object and tries to return an iterator that will return the object’s contents or elements, raising TypeError if the object doesn’t support iteration.\n",
        "\n",
        "Several of Python’s built-in data types support iteration, the most common being lists and dictionaries.\n",
        "\n",
        "**An object is called iterable if you can get an iterator for it.**\n"
      ],
      "metadata": {
        "id": "pF5oSuf7Zerl"
      }
    },
    {
      "cell_type": "code",
      "source": [
        "L = [5,6,7]\n",
        "it = iter(L)\n",
        "it\n"
      ],
      "metadata": {
        "colab": {
          "base_uri": "https://localhost:8080/"
        },
        "id": "sXCmoX1faPfo",
        "outputId": "8924f0da-858b-4a21-e4ab-40fa1f57c733"
      },
      "execution_count": 1,
      "outputs": [
        {
          "output_type": "execute_result",
          "data": {
            "text/plain": [
              "<list_iterator at 0x7b73ad400970>"
            ]
          },
          "metadata": {},
          "execution_count": 1
        }
      ]
    },
    {
      "cell_type": "code",
      "source": [
        "next(it)"
      ],
      "metadata": {
        "colab": {
          "base_uri": "https://localhost:8080/"
        },
        "id": "gldNs8dNZS7v",
        "outputId": "2ffa9b60-a11b-4c16-e32d-be533a34b630"
      },
      "execution_count": 2,
      "outputs": [
        {
          "output_type": "execute_result",
          "data": {
            "text/plain": [
              "5"
            ]
          },
          "metadata": {},
          "execution_count": 2
        }
      ]
    },
    {
      "cell_type": "code",
      "source": [
        "it.__next__()"
      ],
      "metadata": {
        "colab": {
          "base_uri": "https://localhost:8080/"
        },
        "id": "lgdzGFwZbJe0",
        "outputId": "531f19ee-1455-4ce6-c716-3c14a274d5d9"
      },
      "execution_count": 3,
      "outputs": [
        {
          "output_type": "execute_result",
          "data": {
            "text/plain": [
              "6"
            ]
          },
          "metadata": {},
          "execution_count": 3
        }
      ]
    },
    {
      "cell_type": "code",
      "source": [
        "next(it)"
      ],
      "metadata": {
        "colab": {
          "base_uri": "https://localhost:8080/"
        },
        "id": "aNZmQrGrbXbD",
        "outputId": "459c0b8f-3c53-4c6e-d119-e3cb57cf5d8b"
      },
      "execution_count": 4,
      "outputs": [
        {
          "output_type": "execute_result",
          "data": {
            "text/plain": [
              "7"
            ]
          },
          "metadata": {},
          "execution_count": 4
        }
      ]
    },
    {
      "cell_type": "code",
      "source": [
        "for i in iter(L):\n",
        "  print(i)"
      ],
      "metadata": {
        "colab": {
          "base_uri": "https://localhost:8080/"
        },
        "id": "A8IpyVA4bcbY",
        "outputId": "8c965dbc-e134-42c8-ca98-811e564d62a6"
      },
      "execution_count": 5,
      "outputs": [
        {
          "output_type": "stream",
          "name": "stdout",
          "text": [
            "5\n",
            "6\n",
            "7\n"
          ]
        }
      ]
    },
    {
      "cell_type": "code",
      "source": [
        "for i in L:\n",
        "  print(i)\n"
      ],
      "metadata": {
        "colab": {
          "base_uri": "https://localhost:8080/"
        },
        "id": "kXI0VAWXbfTe",
        "outputId": "6c9a6281-c99b-4407-81c1-459e02a8668b"
      },
      "execution_count": 6,
      "outputs": [
        {
          "output_type": "stream",
          "name": "stdout",
          "text": [
            "5\n",
            "6\n",
            "7\n"
          ]
        }
      ]
    },
    {
      "cell_type": "markdown",
      "source": [
        "# ***Iterators can be materialized as lists or tuples by using the list() or tuple() constructor functions:***"
      ],
      "metadata": {
        "id": "fPx7FZ0nc1zq"
      }
    },
    {
      "cell_type": "code",
      "source": [
        "L = [4,5,6]\n",
        "iterator = iter(L)\n",
        "t = tuple(iterator)\n",
        "t"
      ],
      "metadata": {
        "colab": {
          "base_uri": "https://localhost:8080/"
        },
        "id": "4lAAQsircvnm",
        "outputId": "f0ac0975-4718-4b69-d750-f9e958025a40"
      },
      "execution_count": 7,
      "outputs": [
        {
          "output_type": "execute_result",
          "data": {
            "text/plain": [
              "(4, 5, 6)"
            ]
          },
          "metadata": {},
          "execution_count": 7
        }
      ]
    },
    {
      "cell_type": "markdown",
      "source": [
        "# ***Sequence unpacking also supports iterators: if you know an iterator will return N elements, you can unpack them into an N-tuple***"
      ],
      "metadata": {
        "id": "0WKYiSPEdOqK"
      }
    },
    {
      "cell_type": "code",
      "source": [
        "L = [5,4]\n",
        "iterator = iter(L)\n",
        "a, b = iterator\n",
        "a, b\n"
      ],
      "metadata": {
        "colab": {
          "base_uri": "https://localhost:8080/"
        },
        "id": "wnshJMqHdUgB",
        "outputId": "defb8a77-3536-4088-e96d-60d8936e3e47"
      },
      "execution_count": 8,
      "outputs": [
        {
          "output_type": "execute_result",
          "data": {
            "text/plain": [
              "(5, 4)"
            ]
          },
          "metadata": {},
          "execution_count": 8
        }
      ]
    },
    {
      "cell_type": "code",
      "source": [],
      "metadata": {
        "id": "_Pw_e8CFxh2q"
      },
      "execution_count": 8,
      "outputs": []
    },
    {
      "cell_type": "markdown",
      "source": [
        "Built-in functions such as max() and min() can take a single iterator argument and will return the largest or smallest element.\n",
        "\n",
        "The \"in\" and \"not in\" operators also support iterators: X in iterator is true if X is found in the stream returned by the iterator.\n",
        "\n",
        "\n",
        "Note that you can only go forward in an iterator; there’s no way to get the previous element, reset the iterator, or make a copy of it. Iterator objects can optionally provide these additional capabilities, but the iterator protocol only specifies the __next__() method. Functions may therefore consume all of the iterator’s output, and if you need to do something different with the same stream, you’ll have to create a new iterator.\n"
      ],
      "metadata": {
        "id": "CKmkboAQdoTo"
      }
    },
    {
      "cell_type": "markdown",
      "source": [
        "# ***Data Types That Support Iterators***\n",
        "\n",
        "\n",
        "Calling iter() on a dictionary returns an iterator that will loop over the dictionary’s keys:\n"
      ],
      "metadata": {
        "id": "DOwezPtQd7L-"
      }
    },
    {
      "cell_type": "code",
      "source": [
        "m = {'MON': 1, 'TUES': 2, 'WED': 3, 'THURS': 4, 'FRI': 5, 'SATUR': 6}\n",
        "for key in m:\n",
        "  print(key, m[key])"
      ],
      "metadata": {
        "colab": {
          "base_uri": "https://localhost:8080/"
        },
        "id": "kOB89QtReDpE",
        "outputId": "c4f6edc6-8935-4a33-f6b6-7a45ed602356"
      },
      "execution_count": 9,
      "outputs": [
        {
          "output_type": "stream",
          "name": "stdout",
          "text": [
            "MON 1\n",
            "TUES 2\n",
            "WED 3\n",
            "THURS 4\n",
            "FRI 5\n",
            "SATUR 6\n"
          ]
        }
      ]
    },
    {
      "cell_type": "markdown",
      "source": [
        "# Applying ***iter()*** to a dictionary always loops over the keys, but dictionaries have methods that return other iterators. If you want to iterate over values or key/value pairs, you can explicitly call the values() or items() methods to get an appropriate iterator.\n",
        "# The ***dict()*** constructor can accept an iterator that returns a finite stream of (key, value) tuples:\n"
      ],
      "metadata": {
        "id": "694Rw83demyD"
      }
    },
    {
      "cell_type": "code",
      "source": [
        "l=[4,5,6]\n",
        "[2*i for i in l]"
      ],
      "metadata": {
        "id": "j5jVuOLIqzOt",
        "colab": {
          "base_uri": "https://localhost:8080/"
        },
        "outputId": "a1c3dd1b-9c5b-4c46-f82e-f27bd2be713f"
      },
      "execution_count": 10,
      "outputs": [
        {
          "output_type": "execute_result",
          "data": {
            "text/plain": [
              "[8, 10, 12]"
            ]
          },
          "metadata": {},
          "execution_count": 10
        }
      ]
    },
    {
      "cell_type": "code",
      "source": [
        "l=[4,5,6]\n",
        "for i in l:\n",
        "  x=2*i\n",
        "  print(x)\n"
      ],
      "metadata": {
        "colab": {
          "base_uri": "https://localhost:8080/"
        },
        "id": "b2KWtoHQBc2r",
        "outputId": "0635f9ab-2d6d-4392-d7d7-9067068df55a"
      },
      "execution_count": 12,
      "outputs": [
        {
          "output_type": "stream",
          "name": "stdout",
          "text": [
            "8\n",
            "10\n",
            "12\n"
          ]
        }
      ]
    },
    {
      "cell_type": "code",
      "source": [
        "[2*i for i in l]"
      ],
      "metadata": {
        "colab": {
          "base_uri": "https://localhost:8080/"
        },
        "id": "1AOF9Xg8BrvW",
        "outputId": "b2192215-9186-4397-b3a7-75bd0ea74666"
      },
      "execution_count": 14,
      "outputs": [
        {
          "output_type": "execute_result",
          "data": {
            "text/plain": [
              "[8, 10, 12]"
            ]
          },
          "metadata": {},
          "execution_count": 14
        }
      ]
    },
    {
      "cell_type": "code",
      "source": [
        "L = [('AP', 'ATP'), ('TS', 'HYD'), ('KARNATAKA', 'BANGLORE')]\n",
        "dict(iter(L))\n"
      ],
      "metadata": {
        "colab": {
          "base_uri": "https://localhost:8080/"
        },
        "id": "s9ce_Rmtd1PO",
        "outputId": "d9abec50-81c7-4b29-d4fc-68166aca00e3"
      },
      "execution_count": 13,
      "outputs": [
        {
          "output_type": "execute_result",
          "data": {
            "text/plain": [
              "{'AP': 'ATP', 'TS': 'HYD', 'KARNATAKA': 'BANGLORE'}"
            ]
          },
          "metadata": {},
          "execution_count": 13
        }
      ]
    },
    {
      "cell_type": "markdown",
      "source": [
        "**List comprehensions** and **generator expressions** (short form: *“listcomps”* and *“genexps”*) are a concise notation for such operations, borrowed from the functional programming language Haskell (https://www.haskell.org/). You can strip all the whitespace from a stream of strings with the following code:"
      ],
      "metadata": {
        "id": "dSKvU1TngP1Q"
      }
    },
    {
      "cell_type": "code",
      "source": [
        "line_list = ['  SCHOOL\\n', ' SSC\\n', ' AP\\n', '  \\n']\n",
        "\n",
        "# Generator expression -- returns iterator\n",
        "stripped_iter = (line.strip() for line in line_list)\n"
      ],
      "metadata": {
        "id": "5a85PdRDgaK7"
      },
      "execution_count": 15,
      "outputs": []
    },
    {
      "cell_type": "code",
      "source": [
        "# List comprehension -- returns list\n",
        "stripped_list = [line.strip() for line in line_list]\n",
        "print(stripped_list)"
      ],
      "metadata": {
        "colab": {
          "base_uri": "https://localhost:8080/"
        },
        "id": "uhtv9oGCh5Zq",
        "outputId": "68768153-f746-4bb7-c573-f4646816d364"
      },
      "execution_count": 16,
      "outputs": [
        {
          "output_type": "stream",
          "name": "stdout",
          "text": [
            "['SCHOOL', 'SSC', 'AP', '']\n"
          ]
        }
      ]
    },
    {
      "cell_type": "code",
      "source": [
        "#You can select only certain elements by adding an \"if\" condition:\n",
        "stripped_list = [line.strip() for line in line_list if line != \" \"]\n",
        "print(stripped_list)"
      ],
      "metadata": {
        "colab": {
          "base_uri": "https://localhost:8080/"
        },
        "id": "oeFnKnmAh6CN",
        "outputId": "dd8a444f-8bcb-47f6-b54e-4e7b5cfd43a9"
      },
      "execution_count": 17,
      "outputs": [
        {
          "output_type": "stream",
          "name": "stdout",
          "text": [
            "['SCHOOL', 'SSC', 'AP', '']\n"
          ]
        }
      ]
    },
    {
      "cell_type": "markdown",
      "source": [
        "## ***Generators***\n",
        "With a list comprehension, you get back a Python list; stripped_list is a list containing the resulting lines, not an iterator.\n",
        "\n",
        "Generator expressions return an iterator that computes the values as necessary, not needing to materialize all the values at once. This means that list comprehensions aren’t useful if you’re working with iterators that return an infinite stream or a very large amount of data.\n",
        "\n",
        "Generator expressions are preferable in these situations.\n",
        "\n",
        "Generator expressions are surrounded by parentheses (“()”) and list comprehensions are surrounded by square brackets (“[]”).\n",
        "\n",
        "Generator expressions have the form:\n",
        "\n",
        "( expression for expr in sequence1\n",
        "             \n",
        "             if condition1\n",
        "             for expr2 in sequence2\n",
        "             if condition2\n",
        "             for expr3 in sequence3\n",
        "             ...\n",
        "             if condition3\n",
        "             for exprN in sequenceN\n",
        "             if conditionN )\n",
        "Again, for a list comprehension only the outside brackets are different (square brackets instead of parentheses).\n",
        "The elements of the generated output will be the successive values of expression. The if clauses are all optional; if present, expression is only evaluated and added to the result when condition is true.\n",
        "Generator expressions always have to be written inside parentheses, but the parentheses signalling a function call also count. If you want to create an iterator that will be immediately passed to a function you can write:\n",
        "\n",
        "obj_total = sum(obj.count for obj in list_all_objects())\n",
        "\n",
        "The for...in clauses contain the sequences to be iterated over. The sequences do not have to be the same length, because they are iterated over from left to right, not in parallel. For each element in sequence1, sequence2 is looped over from the beginning. sequence3 is then looped over for each resulting pair of elements from sequence1 and sequence2.\n",
        "To put it another way, a list comprehension or generator expression is equivalent to the following Python code:\n",
        "\n",
        "for expr1 in sequence1:\n",
        "    \n",
        "    if not (condition1):\n",
        "        continue   # Skip this element\n",
        "    for expr2 in sequence2:\n",
        "        if not (condition2):\n",
        "            continue   # Skip this element\n",
        "        ...\n",
        "    for exprN in sequenceN:\n",
        "            if not (conditionN):\n",
        "                continue   # Skip this element\n",
        "\n",
        "            # Output the value of\n",
        "            # the expression.\n",
        "This means that when there are multiple for...in clauses but no if clauses, the length of the resulting output will be equal to the product of the lengths of all the sequences. If you have two lists of length 3, the output list is 9 elements long:"
      ],
      "metadata": {
        "id": "b7Fe4dMBi8nI"
      }
    },
    {
      "cell_type": "code",
      "source": [
        "seq1 = 'BHU'\n",
        "seq2 = (4,5,6)\n",
        "[(x, y) for x in seq1 for y in seq2]"
      ],
      "metadata": {
        "id": "BPEXl0ADk384",
        "colab": {
          "base_uri": "https://localhost:8080/"
        },
        "outputId": "795c0534-342c-4633-a212-2fbb96f19431"
      },
      "execution_count": 18,
      "outputs": [
        {
          "output_type": "execute_result",
          "data": {
            "text/plain": [
              "[('B', 4),\n",
              " ('B', 5),\n",
              " ('B', 6),\n",
              " ('H', 4),\n",
              " ('H', 5),\n",
              " ('H', 6),\n",
              " ('U', 4),\n",
              " ('U', 5),\n",
              " ('U', 6)]"
            ]
          },
          "metadata": {},
          "execution_count": 18
        }
      ]
    },
    {
      "cell_type": "markdown",
      "source": [
        "### **Generators**\n",
        "\n",
        "Generators are a special class of functions that simplify the task of writing iterators. Regular functions compute a value and return it, but generators return an iterator that returns a stream of values."
      ],
      "metadata": {
        "id": "K-LzP5TZqLCR"
      }
    },
    {
      "cell_type": "markdown",
      "source": [
        "Here’s the simplest example of a generator function:\n",
        "\n",
        "  \n",
        "    def generate_ints(N):\n",
        "      for i in range(N):\n",
        "        yield i\n",
        "\n",
        "Any function containing a ***yield*** keyword is a generator function;\n",
        "\n",
        "this is detected by Python’s bytecode compiler which compiles the function specially as a result.\n",
        "\n",
        "When you call a generator function, it doesn’t return a single value; instead it returns a generator object that supports the iterator protocol.\n",
        "\n",
        "On executing the yield expression, the generator outputs the value of i, similar to a return statement.\n",
        "\n",
        "The big difference between yield and a return statement is that on reaching a yield the generator’s state of execution is suspended and local variables are preserved.\n",
        "\n",
        "On the next call to the generator’s __next__() method, the function will resume executing.\n"
      ],
      "metadata": {
        "id": "C1SQx9ayXtQ-"
      }
    },
    {
      "cell_type": "markdown",
      "source": [
        "## ***Usage of the generate_ints() generator:***"
      ],
      "metadata": {
        "id": "FW_SmS2DYj8D"
      }
    },
    {
      "cell_type": "code",
      "source": [
        "def generate_ints(N):\n",
        "  for i in range(N):\n",
        "    yield i\n",
        "\n",
        "\n",
        "gen=generate_ints(8)\n",
        "next(gen)"
      ],
      "metadata": {
        "id": "qP-Sdf2OqfWe",
        "colab": {
          "base_uri": "https://localhost:8080/"
        },
        "outputId": "13ba6b1e-d529-406b-931c-aaafab7504c6"
      },
      "execution_count": 19,
      "outputs": [
        {
          "output_type": "execute_result",
          "data": {
            "text/plain": [
              "0"
            ]
          },
          "metadata": {},
          "execution_count": 19
        }
      ]
    },
    {
      "cell_type": "code",
      "source": [
        "next(gen)"
      ],
      "metadata": {
        "colab": {
          "base_uri": "https://localhost:8080/"
        },
        "id": "5P80WJsRybT3",
        "outputId": "8b20ec82-3989-4948-de15-8a7506060013"
      },
      "execution_count": 20,
      "outputs": [
        {
          "output_type": "execute_result",
          "data": {
            "text/plain": [
              "1"
            ]
          },
          "metadata": {},
          "execution_count": 20
        }
      ]
    },
    {
      "cell_type": "code",
      "source": [
        "send(5)"
      ],
      "metadata": {
        "colab": {
          "base_uri": "https://localhost:8080/",
          "height": 181
        },
        "id": "k-VnxdxI0MQy",
        "outputId": "7258ed71-08e9-43a3-a98c-d90d7f15f5f4"
      },
      "execution_count": 21,
      "outputs": [
        {
          "output_type": "error",
          "ename": "NameError",
          "evalue": "ignored",
          "traceback": [
            "\u001b[0;31m---------------------------------------------------------------------------\u001b[0m",
            "\u001b[0;31mNameError\u001b[0m                                 Traceback (most recent call last)",
            "\u001b[0;32m<ipython-input-21-21223fb5d968>\u001b[0m in \u001b[0;36m<cell line: 1>\u001b[0;34m()\u001b[0m\n\u001b[0;32m----> 1\u001b[0;31m \u001b[0msend\u001b[0m\u001b[0;34m(\u001b[0m\u001b[0;36m5\u001b[0m\u001b[0;34m)\u001b[0m\u001b[0;34m\u001b[0m\u001b[0;34m\u001b[0m\u001b[0m\n\u001b[0m",
            "\u001b[0;31mNameError\u001b[0m: name 'send' is not defined"
          ]
        }
      ]
    },
    {
      "cell_type": "code",
      "source": [
        "next(gen)"
      ],
      "metadata": {
        "id": "v4E5uPGmzYKP",
        "colab": {
          "base_uri": "https://localhost:8080/"
        },
        "outputId": "6183e5ac-2739-482b-c7d3-469b99499b9b"
      },
      "execution_count": 22,
      "outputs": [
        {
          "output_type": "execute_result",
          "data": {
            "text/plain": [
              "2"
            ]
          },
          "metadata": {},
          "execution_count": 22
        }
      ]
    },
    {
      "cell_type": "code",
      "source": [
        "next(gen)"
      ],
      "metadata": {
        "colab": {
          "base_uri": "https://localhost:8080/"
        },
        "id": "Bhvjv6r8yh4E",
        "outputId": "cf97bc3b-7f19-4e22-971e-36fcfc73bf45"
      },
      "execution_count": 23,
      "outputs": [
        {
          "output_type": "execute_result",
          "data": {
            "text/plain": [
              "3"
            ]
          },
          "metadata": {},
          "execution_count": 23
        }
      ]
    },
    {
      "cell_type": "code",
      "source": [
        "next(gen)"
      ],
      "metadata": {
        "colab": {
          "base_uri": "https://localhost:8080/"
        },
        "id": "_cHmd1NpZS2K",
        "outputId": "4c566b8e-f4fa-40ce-a0ae-e666ed317170"
      },
      "execution_count": 24,
      "outputs": [
        {
          "output_type": "execute_result",
          "data": {
            "text/plain": [
              "4"
            ]
          },
          "metadata": {},
          "execution_count": 24
        }
      ]
    },
    {
      "cell_type": "code",
      "source": [
        "next(gen)"
      ],
      "metadata": {
        "colab": {
          "base_uri": "https://localhost:8080/"
        },
        "id": "3FsCIOcBzd6H",
        "outputId": "ae5539ef-6aa8-4fb1-f385-8d8061bcee7f"
      },
      "execution_count": 25,
      "outputs": [
        {
          "output_type": "execute_result",
          "data": {
            "text/plain": [
              "5"
            ]
          },
          "metadata": {},
          "execution_count": 25
        }
      ]
    },
    {
      "cell_type": "code",
      "source": [
        "next(gen)"
      ],
      "metadata": {
        "colab": {
          "base_uri": "https://localhost:8080/"
        },
        "id": "Ru9J3mgdzgmw",
        "outputId": "4c30c5c6-79c1-47a4-906d-95d46866ec99"
      },
      "execution_count": 26,
      "outputs": [
        {
          "output_type": "execute_result",
          "data": {
            "text/plain": [
              "6"
            ]
          },
          "metadata": {},
          "execution_count": 26
        }
      ]
    },
    {
      "cell_type": "markdown",
      "source": [
        "Values are sent into a generator by calling its ***send(value***) method. This method resumes the generator’s code and the yield expression returns the specified value. If the regular __next__() method is called, the yield returns None"
      ],
      "metadata": {
        "id": "A67am5d-Z0cJ"
      }
    },
    {
      "cell_type": "code",
      "source": [
        "def counter(maximum):\n",
        "    i = 0\n",
        "    while i < maximum:\n",
        "        val = (yield i)\n",
        "        # If value provided, change counter\n",
        "        if val is not None:\n",
        "            i = val\n",
        "        else:\n",
        "            i += 1\n",
        "\n",
        "\n",
        "\n",
        "it = counter(10)\n",
        "next(it)"
      ],
      "metadata": {
        "colab": {
          "base_uri": "https://localhost:8080/"
        },
        "id": "gT8toLplZ-tj",
        "outputId": "812ab241-ea1e-48ba-be78-4444034b3957"
      },
      "execution_count": 27,
      "outputs": [
        {
          "output_type": "execute_result",
          "data": {
            "text/plain": [
              "0"
            ]
          },
          "metadata": {},
          "execution_count": 27
        }
      ]
    },
    {
      "cell_type": "code",
      "source": [
        "next(it)"
      ],
      "metadata": {
        "colab": {
          "base_uri": "https://localhost:8080/"
        },
        "id": "4Xp7viil0YQY",
        "outputId": "d5995e79-7044-44f4-a48e-a86ebf97c769"
      },
      "execution_count": 28,
      "outputs": [
        {
          "output_type": "execute_result",
          "data": {
            "text/plain": [
              "1"
            ]
          },
          "metadata": {},
          "execution_count": 28
        }
      ]
    },
    {
      "cell_type": "code",
      "source": [
        "next(it)"
      ],
      "metadata": {
        "colab": {
          "base_uri": "https://localhost:8080/"
        },
        "id": "RC9GcZCu1Xca",
        "outputId": "81620cf6-11fa-443d-80df-629c92b6b175"
      },
      "execution_count": 29,
      "outputs": [
        {
          "output_type": "execute_result",
          "data": {
            "text/plain": [
              "2"
            ]
          },
          "metadata": {},
          "execution_count": 29
        }
      ]
    },
    {
      "cell_type": "code",
      "source": [
        "next(it)"
      ],
      "metadata": {
        "id": "gobnO6triNsO",
        "colab": {
          "base_uri": "https://localhost:8080/"
        },
        "outputId": "3dac1bda-c549-4894-da11-07e51a706391"
      },
      "execution_count": 30,
      "outputs": [
        {
          "output_type": "execute_result",
          "data": {
            "text/plain": [
              "3"
            ]
          },
          "metadata": {},
          "execution_count": 30
        }
      ]
    },
    {
      "cell_type": "code",
      "source": [
        "it.send(8)"
      ],
      "metadata": {
        "colab": {
          "base_uri": "https://localhost:8080/"
        },
        "id": "r6CuccGa0ggH",
        "outputId": "2c9c16f5-bf20-4263-afdc-71dd5c056f1a"
      },
      "execution_count": 31,
      "outputs": [
        {
          "output_type": "execute_result",
          "data": {
            "text/plain": [
              "8"
            ]
          },
          "metadata": {},
          "execution_count": 31
        }
      ]
    },
    {
      "cell_type": "code",
      "source": [
        "next(it)"
      ],
      "metadata": {
        "colab": {
          "base_uri": "https://localhost:8080/"
        },
        "id": "QrsTqZU-0nFY",
        "outputId": "db7d1dc9-50a1-4bce-e162-ab27233df75b"
      },
      "execution_count": 32,
      "outputs": [
        {
          "output_type": "execute_result",
          "data": {
            "text/plain": [
              "9"
            ]
          },
          "metadata": {},
          "execution_count": 32
        }
      ]
    },
    {
      "cell_type": "code",
      "source": [
        "next(it)"
      ],
      "metadata": {
        "colab": {
          "base_uri": "https://localhost:8080/",
          "height": 181
        },
        "id": "HZCaINXx0rx3",
        "outputId": "3108832e-a9c7-4ccc-b8b5-c925cd12bca6"
      },
      "execution_count": 33,
      "outputs": [
        {
          "output_type": "error",
          "ename": "StopIteration",
          "evalue": "ignored",
          "traceback": [
            "\u001b[0;31m---------------------------------------------------------------------------\u001b[0m",
            "\u001b[0;31mStopIteration\u001b[0m                             Traceback (most recent call last)",
            "\u001b[0;32m<ipython-input-33-bc1ab118995a>\u001b[0m in \u001b[0;36m<cell line: 1>\u001b[0;34m()\u001b[0m\n\u001b[0;32m----> 1\u001b[0;31m \u001b[0mnext\u001b[0m\u001b[0;34m(\u001b[0m\u001b[0mit\u001b[0m\u001b[0;34m)\u001b[0m\u001b[0;34m\u001b[0m\u001b[0;34m\u001b[0m\u001b[0m\n\u001b[0m",
            "\u001b[0;31mStopIteration\u001b[0m: "
          ]
        }
      ]
    },
    {
      "cell_type": "code",
      "source": [
        "next(it)"
      ],
      "metadata": {
        "colab": {
          "base_uri": "https://localhost:8080/",
          "height": 181
        },
        "id": "r3k-ANwjaect",
        "outputId": "8aaf49ca-b208-4e0a-968e-e2f488ad13e5"
      },
      "execution_count": 34,
      "outputs": [
        {
          "output_type": "error",
          "ename": "StopIteration",
          "evalue": "ignored",
          "traceback": [
            "\u001b[0;31m---------------------------------------------------------------------------\u001b[0m",
            "\u001b[0;31mStopIteration\u001b[0m                             Traceback (most recent call last)",
            "\u001b[0;32m<ipython-input-34-bc1ab118995a>\u001b[0m in \u001b[0;36m<cell line: 1>\u001b[0;34m()\u001b[0m\n\u001b[0;32m----> 1\u001b[0;31m \u001b[0mnext\u001b[0m\u001b[0;34m(\u001b[0m\u001b[0mit\u001b[0m\u001b[0;34m)\u001b[0m\u001b[0;34m\u001b[0m\u001b[0;34m\u001b[0m\u001b[0m\n\u001b[0m",
            "\u001b[0;31mStopIteration\u001b[0m: "
          ]
        }
      ]
    },
    {
      "cell_type": "code",
      "source": [
        "it.send(1)"
      ],
      "metadata": {
        "colab": {
          "base_uri": "https://localhost:8080/",
          "height": 181
        },
        "id": "JZzrJrkXamJS",
        "outputId": "f97a9586-bf63-4cb1-caf3-6424da2f887b"
      },
      "execution_count": 35,
      "outputs": [
        {
          "output_type": "error",
          "ename": "StopIteration",
          "evalue": "ignored",
          "traceback": [
            "\u001b[0;31m---------------------------------------------------------------------------\u001b[0m",
            "\u001b[0;31mStopIteration\u001b[0m                             Traceback (most recent call last)",
            "\u001b[0;32m<ipython-input-35-409c00c530df>\u001b[0m in \u001b[0;36m<cell line: 1>\u001b[0;34m()\u001b[0m\n\u001b[0;32m----> 1\u001b[0;31m \u001b[0mit\u001b[0m\u001b[0;34m.\u001b[0m\u001b[0msend\u001b[0m\u001b[0;34m(\u001b[0m\u001b[0;36m1\u001b[0m\u001b[0;34m)\u001b[0m\u001b[0;34m\u001b[0m\u001b[0;34m\u001b[0m\u001b[0m\n\u001b[0m",
            "\u001b[0;31mStopIteration\u001b[0m: "
          ]
        }
      ]
    },
    {
      "cell_type": "code",
      "source": [
        "next(it)"
      ],
      "metadata": {
        "colab": {
          "base_uri": "https://localhost:8080/",
          "height": 181
        },
        "id": "dyrVm09zasXp",
        "outputId": "dbd47f52-8802-4c39-b671-c7d80f000b05"
      },
      "execution_count": 36,
      "outputs": [
        {
          "output_type": "error",
          "ename": "StopIteration",
          "evalue": "ignored",
          "traceback": [
            "\u001b[0;31m---------------------------------------------------------------------------\u001b[0m",
            "\u001b[0;31mStopIteration\u001b[0m                             Traceback (most recent call last)",
            "\u001b[0;32m<ipython-input-36-bc1ab118995a>\u001b[0m in \u001b[0;36m<cell line: 1>\u001b[0;34m()\u001b[0m\n\u001b[0;32m----> 1\u001b[0;31m \u001b[0mnext\u001b[0m\u001b[0;34m(\u001b[0m\u001b[0mit\u001b[0m\u001b[0;34m)\u001b[0m\u001b[0;34m\u001b[0m\u001b[0;34m\u001b[0m\u001b[0m\n\u001b[0m",
            "\u001b[0;31mStopIteration\u001b[0m: "
          ]
        }
      ]
    },
    {
      "cell_type": "markdown",
      "source": [
        "In addition to ***send()***, there are two other methods on generators:\n",
        "\n",
        "•\t***throw(value)*** is used to raise an exception inside the generator; the exception is raised by the yield expression where the generator’s execution is paused.\n",
        "\n",
        "•\t***close()*** raises a GeneratorExit exception inside the generator to terminate the iteration. On receiving this exception, the generator’s code must either raise GeneratorExit or StopIteration; catching the exception and doing anything else is illegal and will trigger a RuntimeError. close() will also be called by Python’s garbage collector when the generator is garbage-collected.\n"
      ],
      "metadata": {
        "id": "v_s-P_zsa9m0"
      }
    },
    {
      "cell_type": "markdown",
      "source": [
        "Two of Python’s built-in functions, ***map()*** and ***filter()*** duplicate the features of generator expressions:\n",
        "\n",
        "***map(f, iterA, iterB, ...) ***returns an iterator over the sequence"
      ],
      "metadata": {
        "id": "oEawIAGnbXf8"
      }
    },
    {
      "cell_type": "markdown",
      "source": [],
      "metadata": {
        "id": "zeJIYYbtbnTX"
      }
    },
    {
      "cell_type": "code",
      "source": [
        "def upper(s):\n",
        "  return s.upper()\n",
        "\n",
        "list(map(upper, ['fgh', 'jkl']))"
      ],
      "metadata": {
        "colab": {
          "base_uri": "https://localhost:8080/"
        },
        "id": "3QIYzspgbezS",
        "outputId": "a7c158e5-b57f-4003-a568-065d14252bfc"
      },
      "execution_count": 37,
      "outputs": [
        {
          "output_type": "execute_result",
          "data": {
            "text/plain": [
              "['FGH', 'JKL']"
            ]
          },
          "metadata": {},
          "execution_count": 37
        }
      ]
    },
    {
      "cell_type": "code",
      "source": [
        "[upper(s) for s in ['fgh', 'jkl']]"
      ],
      "metadata": {
        "colab": {
          "base_uri": "https://localhost:8080/"
        },
        "id": "1NLRtsWbckZ1",
        "outputId": "56d608bc-4fe7-4ca9-d000-ae201ff2b08d"
      },
      "execution_count": 38,
      "outputs": [
        {
          "output_type": "execute_result",
          "data": {
            "text/plain": [
              "['FGH', 'JKL']"
            ]
          },
          "metadata": {},
          "execution_count": 38
        }
      ]
    },
    {
      "cell_type": "markdown",
      "source": [
        "***filter(predicate, iter)*** returns an iterator over all the sequence elements that meet a certain condition, and is similarly duplicated by list comprehensions. A predicate is a function that returns the truth value of some condition;\n",
        "\n",
        "for use with ***filter()***, the predicate must take a single value."
      ],
      "metadata": {
        "id": "hpByq9_4c2fN"
      }
    },
    {
      "cell_type": "code",
      "source": [
        "def is_even(x):\n",
        "  return (x % 2) == 0\n",
        "list(filter(is_even, range(30)))"
      ],
      "metadata": {
        "colab": {
          "base_uri": "https://localhost:8080/"
        },
        "id": "5nA60Lb4c-xN",
        "outputId": "d4a5e48d-b542-416b-dcff-5338516391aa"
      },
      "execution_count": 39,
      "outputs": [
        {
          "output_type": "execute_result",
          "data": {
            "text/plain": [
              "[0, 2, 4, 6, 8, 10, 12, 14, 16, 18, 20, 22, 24, 26, 28]"
            ]
          },
          "metadata": {},
          "execution_count": 39
        }
      ]
    },
    {
      "cell_type": "code",
      "source": [
        "#List Comprehension\n",
        "list(x for x in range(30) if is_even(x))"
      ],
      "metadata": {
        "colab": {
          "base_uri": "https://localhost:8080/"
        },
        "id": "u3uSPRMjddvc",
        "outputId": "c3a04abd-9198-4dcc-a801-1b17b2e9f486"
      },
      "execution_count": 40,
      "outputs": [
        {
          "output_type": "execute_result",
          "data": {
            "text/plain": [
              "[0, 2, 4, 6, 8, 10, 12, 14, 16, 18, 20, 22, 24, 26, 28]"
            ]
          },
          "metadata": {},
          "execution_count": 40
        }
      ]
    },
    {
      "cell_type": "markdown",
      "source": [
        "***enumerate(iter, start=0)*** counts off the elements in the iterable returning 2-tuples containing the count (from start) and each element."
      ],
      "metadata": {
        "id": "X5uy_Z2Id3xi"
      }
    },
    {
      "cell_type": "code",
      "source": [
        "for item in enumerate(['h', 'g', 'f']):\n",
        "  print(item)\n"
      ],
      "metadata": {
        "colab": {
          "base_uri": "https://localhost:8080/"
        },
        "id": "PA8d6YDmd_QY",
        "outputId": "03331600-afad-4418-c44e-88729146139f"
      },
      "execution_count": 41,
      "outputs": [
        {
          "output_type": "stream",
          "name": "stdout",
          "text": [
            "(0, 'h')\n",
            "(1, 'g')\n",
            "(2, 'f')\n"
          ]
        }
      ]
    },
    {
      "cell_type": "markdown",
      "source": [
        "***sort() method***"
      ],
      "metadata": {
        "id": "iunANMBieSnp"
      }
    },
    {
      "cell_type": "code",
      "source": [
        "import random\n",
        "# Generate 8 random numbers between [0, 100)\n",
        "rand_list = random.sample(range(100), 6)\n",
        "rand_list\n"
      ],
      "metadata": {
        "colab": {
          "base_uri": "https://localhost:8080/"
        },
        "id": "Hf0nZutkeR1k",
        "outputId": "71b78f71-1d98-41c7-ee79-832eb0f0617c"
      },
      "execution_count": 42,
      "outputs": [
        {
          "output_type": "execute_result",
          "data": {
            "text/plain": [
              "[95, 29, 20, 50, 45, 6]"
            ]
          },
          "metadata": {},
          "execution_count": 42
        }
      ]
    },
    {
      "cell_type": "code",
      "source": [
        "sorted(rand_list)"
      ],
      "metadata": {
        "colab": {
          "base_uri": "https://localhost:8080/"
        },
        "id": "YDCkxFIVehN3",
        "outputId": "130f6d1e-fff1-41c7-d359-51c4625321e9"
      },
      "execution_count": 43,
      "outputs": [
        {
          "output_type": "execute_result",
          "data": {
            "text/plain": [
              "[6, 20, 29, 45, 50, 95]"
            ]
          },
          "metadata": {},
          "execution_count": 43
        }
      ]
    },
    {
      "cell_type": "code",
      "source": [
        "sorted(rand_list, reverse=True)"
      ],
      "metadata": {
        "colab": {
          "base_uri": "https://localhost:8080/"
        },
        "id": "dMXZk56uelLh",
        "outputId": "67d30c94-8763-4c3b-da57-6b0a6a55250a"
      },
      "execution_count": 44,
      "outputs": [
        {
          "output_type": "execute_result",
          "data": {
            "text/plain": [
              "[95, 50, 45, 29, 20, 6]"
            ]
          },
          "metadata": {},
          "execution_count": 44
        }
      ]
    },
    {
      "cell_type": "markdown",
      "source": [
        "# ***any(iter) and all(iter) built-ins***"
      ],
      "metadata": {
        "id": "-7_xQCHBer3J"
      }
    },
    {
      "cell_type": "markdown",
      "source": [
        "The ***any(iter) and all(iter)*** built-ins look at the truth values of an iterable’s contents. any() returns True if any element in the iterable is a true value, and all() returns True if all of the elements are true values:"
      ],
      "metadata": {
        "id": "Jy2NjZl5ev6W"
      }
    },
    {
      "cell_type": "code",
      "source": [
        "any([0, 1, 1])"
      ],
      "metadata": {
        "colab": {
          "base_uri": "https://localhost:8080/"
        },
        "id": "AnkKxkSHevF8",
        "outputId": "ef8e9c1e-85f2-474d-8511-9b1c213e0e2d"
      },
      "execution_count": 45,
      "outputs": [
        {
          "output_type": "execute_result",
          "data": {
            "text/plain": [
              "True"
            ]
          },
          "metadata": {},
          "execution_count": 45
        }
      ]
    },
    {
      "cell_type": "code",
      "source": [
        "all([0, 0, 0])"
      ],
      "metadata": {
        "colab": {
          "base_uri": "https://localhost:8080/"
        },
        "id": "3nvfL6gXfG-i",
        "outputId": "e31ef891-f586-407f-81ab-1893a6af8f87"
      },
      "execution_count": 46,
      "outputs": [
        {
          "output_type": "execute_result",
          "data": {
            "text/plain": [
              "False"
            ]
          },
          "metadata": {},
          "execution_count": 46
        }
      ]
    },
    {
      "cell_type": "markdown",
      "source": [
        "# ***zip(iterA, iterB, ...) takes one element from each iterable and returns them in a tuple:***"
      ],
      "metadata": {
        "id": "WzSfxA5zfVTg"
      }
    },
    {
      "cell_type": "code",
      "source": [
        "zip(['x','y','z'], (8, 9, 0))"
      ],
      "metadata": {
        "colab": {
          "base_uri": "https://localhost:8080/"
        },
        "id": "EoUOm0CLfZs6",
        "outputId": "60e29bb0-c7ff-4e32-9809-9aad4fd038d4"
      },
      "execution_count": 47,
      "outputs": [
        {
          "output_type": "execute_result",
          "data": {
            "text/plain": [
              "<zip at 0x7b73ac2ad080>"
            ]
          },
          "metadata": {},
          "execution_count": 47
        }
      ]
    },
    {
      "cell_type": "code",
      "source": [
        "zip(['x','y'], (8, 9, 0))"
      ],
      "metadata": {
        "colab": {
          "base_uri": "https://localhost:8080/"
        },
        "id": "R8r8IuUBfulT",
        "outputId": "ac88ff12-7119-46c6-f171-9ec237260c53"
      },
      "execution_count": 48,
      "outputs": [
        {
          "output_type": "execute_result",
          "data": {
            "text/plain": [
              "<zip at 0x7b73ac2a68c0>"
            ]
          },
          "metadata": {},
          "execution_count": 48
        }
      ]
    }
  ]
}